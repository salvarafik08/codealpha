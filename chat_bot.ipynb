{
  "nbformat": 4,
  "nbformat_minor": 0,
  "metadata": {
    "colab": {
      "provenance": [],
      "authorship_tag": "ABX9TyPZHx43J0Mi8BAqi4Icz4qr",
      "include_colab_link": true
    },
    "kernelspec": {
      "name": "python3",
      "display_name": "Python 3"
    },
    "language_info": {
      "name": "python"
    }
  },
  "cells": [
    {
      "cell_type": "markdown",
      "metadata": {
        "id": "view-in-github",
        "colab_type": "text"
      },
      "source": [
        "<a href=\"https://colab.research.google.com/github/salvarafik08/codealpha/blob/main/chat_bot.ipynb\" target=\"_parent\"><img src=\"https://colab.research.google.com/assets/colab-badge.svg\" alt=\"Open In Colab\"/></a>"
      ]
    },
    {
      "cell_type": "code",
      "execution_count": null,
      "metadata": {
        "colab": {
          "base_uri": "https://localhost:8080/"
        },
        "id": "MF0xTFmrardg",
        "outputId": "ddcfd24a-d714-4143-ed55-49072146f381"
      },
      "outputs": [
        {
          "output_type": "stream",
          "name": "stderr",
          "text": [
            "[nltk_data] Downloading package punkt to /root/nltk_data...\n",
            "[nltk_data]   Unzipping tokenizers/punkt.zip.\n"
          ]
        },
        {
          "output_type": "stream",
          "name": "stdout",
          "text": [
            "Hi! I'm your chatbot. Type 'bye' to end the conversation.\n"
          ]
        }
      ],
      "source": [
        "\n",
        "\n",
        "import nltk\n",
        "from nltk.chat.util import Chat, reflections\n",
        "\n",
        "# Pairs of patterns and responses\n",
        "pairs = [\n",
        "    [\n",
        "        r\"(hi|hello|hey|good morning|good evening)\",\n",
        "        [\"Hello! How can I help you today?\", \"Hi there! What can I do for you?\"],\n",
        "    ],\n",
        "    [\n",
        "        r\"(what is your name\\?|who are you\\?)\",\n",
        "        [\"I am a chatbot created to assist you!\", \"I'm your friendly chatbot!\"],\n",
        "    ],\n",
        "    [\n",
        "        r\"(how are you\\?|how are you doing\\?)\",\n",
        "        [\"I'm just a program, but I'm here to help you!\", \"I'm doing great, thank you!\"],\n",
        "    ],\n",
        "    [\n",
        "        r\"(what can you do\\?|how can you help me\\?)\",\n",
        "        [\"I can answer your questions, provide information, or just chat with you!\"],\n",
        "    ],\n",
        "    [\n",
        "        r\"(bye|goodbye|see you later)\",\n",
        "        [\"Goodbye! Have a great day!\", \"See you later! Take care!\"],\n",
        "    ],\n",
        "    [\n",
        "        r\"(.*)\",\n",
        "        [\n",
        "            \"I'm not sure about that. Can you rephrase your question?\",\n",
        "            \"Interesting! Tell me more.\",\n",
        "        ],\n",
        "    ],\n",
        "]\n",
        "\n",
        "# Main function\n",
        "def chatbot():\n",
        "    print(\"Hi! I'm your chatbot. Type 'bye' to end the conversation.\")\n",
        "    chat = Chat(pairs, reflections)\n",
        "    chat.converse()\n",
        "\n",
        "# Run the chatbot\n",
        "if __name__ == \"__main__\":\n",
        "    nltk.download('punkt')  # Download necessary data for NLTK\n",
        "    chatbot()\n",
        "\n",
        "\n",
        "\n"
      ]
    }
  ]
}