{
  "nbformat": 4,
  "nbformat_minor": 0,
  "metadata": {
    "colab": {
      "provenance": [],
      "toc_visible": true,
      "authorship_tag": "ABX9TyMBcwmzlUOp4EkqeImW7mLb",
      "include_colab_link": true
    },
    "kernelspec": {
      "name": "python3",
      "display_name": "Python 3"
    },
    "language_info": {
      "name": "python"
    }
  },
  "cells": [
    {
      "cell_type": "markdown",
      "metadata": {
        "id": "view-in-github",
        "colab_type": "text"
      },
      "source": [
        "<a href=\"https://colab.research.google.com/github/salvarafik08/codealpha/blob/main/Task_1_Hangman_Game_codsoft_python_programming.ipynb\" target=\"_parent\"><img src=\"https://colab.research.google.com/assets/colab-badge.svg\" alt=\"Open In Colab\"/></a>"
      ]
    },
    {
      "cell_type": "code",
      "execution_count": null,
      "metadata": {
        "colab": {
          "base_uri": "https://localhost:8080/"
        },
        "id": "D3Tg4wNuTHKZ",
        "outputId": "eb32d684-8e82-4d56-f394-123005573e30"
      },
      "outputs": [
        {
          "output_type": "stream",
          "name": "stdout",
          "text": [
            "Welcome to Hangman!\n",
            "You have 6 chances to guess the word.\n",
            "The word is: _ _ _ _ _ _ _ _ _ _\n"
          ]
        }
      ],
      "source": [
        "import random\n",
        "\n",
        "def hangman():\n",
        "    # List of words to guess\n",
        "    words = [\"python\", \"programming\", \"hangman\", \"artificial\", \"intelligence\", \"colab\"]\n",
        "    word = random.choice(words).lower()  # Select a random word\n",
        "    guessed_word = [\"_\"] * len(word)  # Placeholder for guessed letters\n",
        "    guessed_letters = set()  # Track guessed letters\n",
        "    incorrect_guesses = 0  # Counter for incorrect guesses\n",
        "    max_incorrect_guesses = 6  # Limit for incorrect guesses\n",
        "\n",
        "    print(\"Welcome to Hangman!\")\n",
        "    print(\"You have\", max_incorrect_guesses, \"chances to guess the word.\")\n",
        "    print(\"The word is:\", \" \".join(guessed_word))\n",
        "\n",
        "    while incorrect_guesses < max_incorrect_guesses and \"_\" in guessed_word:\n",
        "        guess = input(\"\\nEnter your guess (a single letter): \").lower()\n",
        "\n",
        "        # Validate the guess\n",
        "        if len(guess) != 1 or not guess.isalpha():\n",
        "            print(\"Invalid input! Please enter a single alphabet.\")\n",
        "            continue\n",
        "\n",
        "        if guess in guessed_letters:\n",
        "            print(\"You already guessed that letter. Try another.\")\n",
        "            continue\n",
        "\n",
        "        guessed_letters.add(guess)  # Add guess to guessed letters\n",
        "\n",
        "        if guess in word:\n",
        "            print(\"Correct guess!\")\n",
        "            # Reveal the guessed letter in the word\n",
        "            for idx, letter in enumerate(word):\n",
        "                if letter == guess:\n",
        "                    guessed_word[idx] = guess\n",
        "        else:\n",
        "            print(\"Wrong guess!\")\n",
        "            incorrect_guesses += 1\n",
        "\n",
        "        # Display current state\n",
        "        print(\"Word:\", \" \".join(guessed_word))\n",
        "        print(f\"Incorrect guesses: {incorrect_guesses}/{max_incorrect_guesses}\")\n",
        "\n",
        "    # Check win or lose condition\n",
        "    if \"_\" not in guessed_word:\n",
        "        print(\"\\nCongratulations! You guessed the word:\", word)\n",
        "    else:\n",
        "        print(\"\\nGame Over! The word was:\", word)\n",
        "\n",
        "# Run the game\n",
        "hangman()\n",
        ""
      ]
    }
  ]
}